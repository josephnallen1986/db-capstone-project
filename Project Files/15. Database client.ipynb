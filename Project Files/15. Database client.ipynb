{
 "cells": [
  {
   "cell_type": "markdown",
   "metadata": {},
   "source": [
    "##### Step 1: Establish a connection "
   ]
  },
  {
   "cell_type": "code",
   "execution_count": 17,
   "metadata": {},
   "outputs": [
    {
     "name": "stdout",
     "output_type": "stream",
     "text": [
      "Connected to MySQL!\n"
     ]
    }
   ],
   "source": [
    "import mysql.connector as connector\n",
    "import json\n",
    "\n",
    "with open('global_variables.json') as global_variables_file:\n",
    "    global_variables = json.load(global_variables_file)\n",
    "\n",
    "db = global_variables['db']\n",
    "host = global_variables['host']\n",
    "user = global_variables['user']\n",
    "password = global_variables['password']\n",
    "\n",
    "try:\n",
    "    connection = connector.connect(\n",
    "        host=host,\n",
    "        user=user,\n",
    "        password=password\n",
    "    )\n",
    "    print(\"Connected to MySQL!\")\n",
    "        \n",
    "except connector.Error as error:\n",
    "    print(\"Error while connecting to MySQL:\", error)"
   ]
  },
  {
   "cell_type": "markdown",
   "metadata": {},
   "source": [
    "##### Step 2: Create a cursor"
   ]
  },
  {
   "cell_type": "code",
   "execution_count": 18,
   "metadata": {},
   "outputs": [],
   "source": [
    "cursor = connection.cursor()"
   ]
  },
  {
   "cell_type": "markdown",
   "metadata": {},
   "source": [
    "##### Step 3: Query and Print Tables in DB"
   ]
  },
  {
   "cell_type": "code",
   "execution_count": 19,
   "metadata": {},
   "outputs": [
    {
     "name": "stdout",
     "output_type": "stream",
     "text": [
      "('bookings',)\n",
      "('customerdetails',)\n",
      "('menu',)\n",
      "('menuitems',)\n",
      "('orderdeliverystatus',)\n",
      "('orderitems',)\n",
      "('orders',)\n",
      "('ordersview',)\n",
      "('staffinformation',)\n"
     ]
    }
   ],
   "source": [
    "show_tables_query = \"SHOW TABLES\"\n",
    "cursor.execute(f\"USE {db}\")\n",
    "cursor.execute(show_tables_query)\n",
    "results = cursor.fetchall()\n",
    "for table in results:\n",
    "    print(table)\n"
   ]
  },
  {
   "cell_type": "markdown",
   "metadata": {},
   "source": [
    "##### Step 3: Query and Print Customers With TotalCost Over $60"
   ]
  },
  {
   "cell_type": "code",
   "execution_count": 23,
   "metadata": {},
   "outputs": [
    {
     "name": "stdout",
     "output_type": "stream",
     "text": [
      "('Laney Fadden', 'LaneyFadden@example.com', '213-456-7871')\n",
      "('Lia Bonar', 'LiaBonar@example.com', '323-789-4250')\n",
      "('Tasia Fautly', 'TasiaFautly@example.com', '619-345-6596')\n",
      "('Angel Veschambre', 'AngelVeschambre@example.com', '714-456-7686')\n",
      "('Audie Willcocks', 'AudieWillcocks@example.com', '310-678-9178')\n",
      "('Ashil Brogini', 'AshilBrogini@example.com', '303-456-7143')\n",
      "('Arthur Mathewson', 'ArthurMathewson@example.com', '404-567-8254')\n",
      "('Roddie Winterbotham', 'RoddieWinterbotham@example.com', '707-890-1651')\n",
      "('Sabra Calbreath', 'SabraCalbreath@example.com', '617-456-7579')\n",
      "('Anders Stowe', 'AndersStowe@example.com', '830-678-9882')\n",
      "('Noni Quickenden', 'NoniQuickenden@example.com', '214-901-2126')\n",
      "('Alan Paskell', 'AlanPaskell@example.com', '305-012-3161')\n",
      "('Anny Pattemore', 'AnnyPattemore@example.com', '410-123-4293')\n",
      "('Horatio Lundy', 'HoratioLundy@example.com', '614-345-6545')\n",
      "('Sibley Rodder', 'SibleyRodder@example.com', '718-456-7724')\n",
      "('Sorcha Beesley', 'SorchaBeesley@example.com', '831-678-9899')\n",
      "('Dre Danher', 'DreDanher@example.com', '908-890-1933')\n",
      "('Adiana Shirtliff', 'AdianaShirtliff@example.com', '214-012-3109')\n",
      "('Tiertza Doogan', 'TiertzaDoogan@example.com', '818-567-8828')\n",
      "('Ilario Michie', 'IlarioMichie@example.com', '213-678-9075')\n",
      "('Skipp Lowater', 'SkippLowater@example.com', '510-890-1438')\n",
      "('Cornelius Harkess', 'CorneliusHarkess@example.com', '818-123-4810')\n",
      "('Erv Padrick', 'ErvPadrick@example.com', '213-234-5654')\n",
      "('Purcell Eyer', 'PurcellEyer@example.com', '323-456-7216')\n",
      "('Pietra Dibdall', 'PietraDibdall@example.com', '510-567-8421')\n",
      "('Prudence Eastlake', 'PrudenceEastlake@example.com', '323-012-3199')\n",
      "('Jerrie Jiran', 'JerrieJiran@example.com', '510-234-5401')\n",
      "('Linc Martynov', 'LincMartynov@example.com', '619-345-6597')\n",
      "('Asia McNess', 'AsiaMcNess@example.com', '707-890-1652')\n",
      "('Olive Jeannon', 'OliveJeannon@example.com', '909-012-3951')\n",
      "('Karoline Pocock', 'KarolinePocock@example.com', '212-123-4538')\n",
      "('Rosanne Zorzutti', 'RosanneZorzutti@example.com', '413-234-5311')\n",
      "('Artair Lant', 'ArtairLant@example.com', '617-456-7580')\n",
      "('Marielle Buffey', 'MarielleBuffey@example.com', '718-567-8759')\n",
      "('Eva Dulake', 'EvaDulake@example.com', '410-123-4294')\n",
      "('Darby McLae', 'DarbyMcLae@example.com', '614-345-6546')\n",
      "('Hynda Skeel', 'HyndaSkeel@example.com', '831-678-9900')\n",
      "('Melisent Claessens', 'MelisentClaessens@example.com', '972-901-2986')\n"
     ]
    }
   ],
   "source": [
    "db_query = \"\"\"\n",
    "SELECT DISTINCT\n",
    "    customerdetails.CustomerName,\n",
    "    customerdetails.Email,\n",
    "    customerdetails.ContactNumber\n",
    "FROM customerdetails\n",
    "INNER JOIN bookings\n",
    "    ON bookings.CustomerID = customerdetails.CustomerID\n",
    "INNER JOIN orders\n",
    "    ON orders.BookingID = bookings.BookingID\n",
    "WHERE\n",
    "    orders.TotalCost >= 60\n",
    "\"\"\"\n",
    "\n",
    "cursor.execute(db_query)\n",
    "results = cursor.fetchall()\n",
    "for customer in results:\n",
    "    print(customer)\n"
   ]
  }
 ],
 "metadata": {
  "kernelspec": {
   "display_name": ".venv",
   "language": "python",
   "name": "python3"
  },
  "language_info": {
   "codemirror_mode": {
    "name": "ipython",
    "version": 3
   },
   "file_extension": ".py",
   "mimetype": "text/x-python",
   "name": "python",
   "nbconvert_exporter": "python",
   "pygments_lexer": "ipython3",
   "version": "3.11.3"
  }
 },
 "nbformat": 4,
 "nbformat_minor": 2
}
